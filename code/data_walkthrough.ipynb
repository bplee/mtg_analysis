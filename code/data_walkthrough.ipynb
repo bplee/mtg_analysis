{
 "cells": [
  {
   "cell_type": "markdown",
   "metadata": {},
   "source": [
    "# Data loading walk through"
   ]
  },
  {
   "cell_type": "markdown",
   "metadata": {},
   "source": [
    "Thus far, the publically available datasets that I have been able to find on 17lands includes 3 different datasets. Game data and Draft data are probably most important\n",
    "\n",
    "- Draft data\n",
    "    - \"Draft data for STX Premier Draft. One row per pick, with information about what they had picked previously, how the matches went, and the user's overall win rate. P1P1 data is missing due to it not being in the Arena logs.\"\n",
    "- **Game data**\n",
    "    - \"Game-level data for STX Traditional Draft. Includes cards that were in the deck, in the opening hand (i.e. the one that was kept), or drawn later in the game. Cards that were drawn do not include cards that were in the opening hand.\"\n",
    "- Replay data\n",
    "    - \"Turn-level data for STX Traditional Draft. Includes cards drawn, cards cast, creatures attacked with, damage dealt, etc. along with some game summary information.\"\n"
   ]
  },
  {
   "cell_type": "markdown",
   "metadata": {},
   "source": [
    "This notebook depends on data to be found in /mtg_analysis/data/sets/stx/\n",
    "Following cell loads the data there, assuming you wd is /code/"
   ]
  },
  {
   "cell_type": "code",
   "execution_count": 26,
   "metadata": {},
   "outputs": [
    {
     "name": "stdout",
     "output_type": "stream",
     "text": [
      "/Users/bren/Desktop/Bren/projects/mtg_analysis/code\n",
      "mkdir: sets/stx: File exists\n",
      "  % Total    % Received % Xferd  Average Speed   Time    Time     Time  Current\n",
      "                                 Dload  Upload   Total   Spent    Left  Speed\n",
      "100  141M  100  141M    0     0  9931k      0  0:00:14  0:00:14 --:--:--  9.8M\n",
      "  % Total    % Received % Xferd  Average Speed   Time    Time     Time  Current\n",
      "                                 Dload  Upload   Total   Spent    Left  Speed\n",
      "100  190M  100  190M    0     0  9356k      0  0:00:20  0:00:20 --:--:-- 9217k17  0:00:03 9542k\n"
     ]
    }
   ],
   "source": [
    "! pwd\n",
    "! cd ../data; mkdir sets/stx;\n",
    "! cd ../data/sets/stx; curl -O -J -L https://17lands-public.s3.amazonaws.com/analysis_data/game-data.STX.PremierDraft.tar.gz \n",
    "! cd ../data/sets/stx; curl -O -J -L https://17lands-public.s3.amazonaws.com/analysis_data/draft-data.STX.PremierDraft.tar.gz\n",
    "! cd ../data/sets/stx; curl -O -J -L https://17lands-public.s3.amazonaws.com/analysis_data/replay-data.STX.PremierDraft.202105.tar.gz\n",
    "    "
   ]
  },
  {
   "cell_type": "code",
   "execution_count": 16,
   "metadata": {},
   "outputs": [],
   "source": [
    "import os \n",
    "import numpy as np\n",
    "import pandas as pd # using dataframes as the main way to interface with data\n",
    "\n",
    "DATA_DIR = \"../data/sets/stx/\""
   ]
  },
  {
   "cell_type": "code",
   "execution_count": 20,
   "metadata": {},
   "outputs": [
    {
     "name": "stdout",
     "output_type": "stream",
     "text": [
      "../data/sets/stx/game-data.STX.PremierDraft.tar.gz\n"
     ]
    }
   ],
   "source": [
    "data_file = os.listdir(DATA_DIR)[0]\n",
    "data_file = os.path.join(DATA_DIR, data_file)\n",
    "print(data_file)"
   ]
  },
  {
   "cell_type": "markdown",
   "metadata": {},
   "source": [
    "### Loading Game Data"
   ]
  },
  {
   "cell_type": "code",
   "execution_count": 18,
   "metadata": {},
   "outputs": [
    {
     "name": "stderr",
     "output_type": "stream",
     "text": [
      "<decorator-gen-54>:2: DtypeWarning: Columns (10,15) have mixed types.Specify dtype option on import or set low_memory=False.\n"
     ]
    },
    {
     "name": "stdout",
     "output_type": "stream",
     "text": [
      "CPU times: user 56.3 s, sys: 14.1 s, total: 1min 10s\n",
      "Wall time: 1min 47s\n"
     ]
    }
   ],
   "source": [
    "%time data = pd.read_csv(data_file)"
   ]
  },
  {
   "cell_type": "markdown",
   "metadata": {},
   "source": [
    "### Previewing Game data:"
   ]
  },
  {
   "cell_type": "code",
   "execution_count": 29,
   "metadata": {},
   "outputs": [
    {
     "name": "stdout",
     "output_type": "stream",
     "text": [
      "Data shape: (463435, 1388)\n",
      "Whats in the cols? ['game_data_public.STX.PremierDraft.csv', 'user_n_games_bucket', 'draft_id', 'build_index', 'draft_time', 'expansion', 'event_type', 'game_number', 'rank', 'opp_rank', 'on_play', 'num_mulligans', 'opp_num_mulligans', 'opp_colors', 'num_turns', 'won', 'opening_hand_Abundant Harvest', 'opening_hand_Academic Dispute', 'opening_hand_Academic Probation', 'opening_hand_Access Tunnel', 'opening_hand_Accomplished Alchemist', 'opening_hand_Adventurous Impulse', 'opening_hand_Aether Helix', 'opening_hand_Ageless Guardian', 'opening_hand_Agonizing Remorse', 'opening_hand_Approach of the Second Sun', 'opening_hand_Arcane Subtraction', 'opening_hand_Archmage Emeritus', 'opening_hand_Archway Commons', 'opening_hand_Ardent Dustspeaker', 'opening_hand_Arrogant Poet', 'opening_hand_Augmenter Pugilist', 'opening_hand_Baleful Mastery', 'opening_hand_Basic Conjuration', 'opening_hand_Bayou Groff', 'opening_hand_Beaming Defiance', 'opening_hand_Beledros Witherbloom', 'opening_hand_Biblioplex Assistant', 'opening_hand_Big Play', 'opening_hand_Biomathematician', 'opening_hand_Blade Historian', 'opening_hand_Blex, Vexing Pest', 'opening_hand_Blood Age General', 'opening_hand_Blood Researcher', 'opening_hand_Blot Out the Sky', \"opening_hand_Blue Sun's Zenith\", 'opening_hand_Body of Research', 'opening_hand_Bookwurm', 'opening_hand_Brackish Trudge', 'opening_hand_Brainstorm', 'opening_hand_Burrog Befuddler', 'opening_hand_Bury in Books', 'opening_hand_Callous Bloodmage', 'opening_hand_Campus Guide', 'opening_hand_Channel', 'opening_hand_Chaos Warp', 'opening_hand_Charge Through', 'opening_hand_Claim the Firstborn', 'opening_hand_Clever Lumimancer', 'opening_hand_Closing Statement', 'opening_hand_Codie, Vociferous Codex', 'opening_hand_Cogwork Archivist', 'opening_hand_Combat Professor', 'opening_hand_Compulsive Research', 'opening_hand_Confront the Past', 'opening_hand_Conspiracy Theorist', 'opening_hand_Containment Breach', 'opening_hand_Counterspell', 'opening_hand_Crackle with Power', 'opening_hand_Cram Session', 'opening_hand_Creative Outburst', 'opening_hand_Crushing Disappointment', 'opening_hand_Crux of Fate', 'opening_hand_Culling Ritual', 'opening_hand_Culmination of Studies', 'opening_hand_Cultivate', 'opening_hand_Curate', 'opening_hand_Daemogoth Titan', 'opening_hand_Daemogoth Woe-Eater', 'opening_hand_Dark Ritual', 'opening_hand_Day of Judgment', 'opening_hand_Deadly Brew', 'opening_hand_Decisive Denial', 'opening_hand_Defend the Campus', 'opening_hand_Defiant Strike', 'opening_hand_Demonic Tutor', 'opening_hand_Despark', 'opening_hand_Detention Vortex', 'opening_hand_Devastating Mastery', 'opening_hand_Devouring Tendrils', 'opening_hand_Dina, Soul Steeper', 'opening_hand_Divide by Zero', 'opening_hand_Divine Gambit', 'opening_hand_Doom Blade', 'opening_hand_Double Major', 'opening_hand_Draconic Intervention', \"opening_hand_Dragon's Approach\", 'opening_hand_Dragonsguard Elite', 'opening_hand_Dramatic Finale', 'opening_hand_Dream Strix', 'opening_hand_Dueling Coach', 'opening_hand_Duress', 'opening_hand_Eager First-Year', 'opening_hand_Ecological Appreciation', 'opening_hand_Efreet Flamepainter', 'opening_hand_Electrolyze', 'opening_hand_Elemental Expressionist', 'opening_hand_Elemental Masterpiece', 'opening_hand_Elemental Summoning', 'opening_hand_Eliminate', 'opening_hand_Elite Spellbinder', 'opening_hand_Emergent Sequence', 'opening_hand_Enthusiastic Study', 'opening_hand_Environmental Sciences', 'opening_hand_Ephemerate', 'opening_hand_Essence Infusion', 'opening_hand_Eureka Moment', 'opening_hand_Excavated Wall', 'opening_hand_Exhilarating Elocution', 'opening_hand_Expanded Anatomy', 'opening_hand_Expel', 'opening_hand_Explosive Welcome', 'opening_hand_Exponential Growth', 'opening_hand_Expressive Iteration', 'opening_hand_Extus, Oriq Overlord', 'opening_hand_Eyetwitch', 'opening_hand_Faithless Looting', 'opening_hand_Fervent Mastery', 'opening_hand_Field Trip', 'opening_hand_First Day of Class', 'opening_hand_Flamescroll Celebrant', 'opening_hand_Flunk', 'opening_hand_Forest', 'opening_hand_Fortifying Draught', 'opening_hand_Fractal Summoning', 'opening_hand_Fracture', 'opening_hand_Frost Trickster', 'opening_hand_Frostboil Snarl', 'opening_hand_Fuming Effigy', 'opening_hand_Furycalm Snarl', 'opening_hand_Galazeth Prismari', 'opening_hand_Gift of Estates', 'opening_hand_Gnarled Professor', 'opening_hand_Go Blank', 'opening_hand_Gods Willing', 'opening_hand_Golden Ratio', 'opening_hand_Grapeshot', 'opening_hand_Grinning Ignus', 'opening_hand_Growth Spiral', 'opening_hand_Guiding Voice', 'opening_hand_Hall Monitor', 'opening_hand_Hall of Oracles', 'opening_hand_Harmonize', 'opening_hand_Harness Infinity', 'opening_hand_Heated Debate', 'opening_hand_Hofri Ghostforge', 'opening_hand_Honor Troll', 'opening_hand_Humiliate', 'opening_hand_Hunt for Specimens', 'opening_hand_Igneous Inspiration', 'opening_hand_Illuminate History', 'opening_hand_Illustrious Historian', 'opening_hand_Increasing Vengeance', 'opening_hand_Infuriate', 'opening_hand_Infuse with Vitality', 'opening_hand_Ingenious Mastery', 'opening_hand_Inkling Summoning', 'opening_hand_Inquisition of Kozilek', 'opening_hand_Introduction to Annihilation', 'opening_hand_Introduction to Prophecy', 'opening_hand_Island', 'opening_hand_Jadzi, Oracle of Arcavios', 'opening_hand_Karok Wrangler', 'opening_hand_Kasmina, Enigma Sage', 'opening_hand_Kelpie Guide', 'opening_hand_Kianne, Dean of Substance', 'opening_hand_Killian, Ink Duelist', 'opening_hand_Krosan Grip', 'opening_hand_Lash of Malice', 'opening_hand_Leech Fanatic', 'opening_hand_Leonin Lightscribe', 'opening_hand_Letter of Acceptance', 'opening_hand_Leyline Invocation', 'opening_hand_Lightning Bolt', 'opening_hand_Lightning Helix', 'opening_hand_Lorehold Apprentice', 'opening_hand_Lorehold Campus', 'opening_hand_Lorehold Command', 'opening_hand_Lorehold Excavation', 'opening_hand_Lorehold Pledgemage', 'opening_hand_Maelstrom Muse', 'opening_hand_Mage Duel', 'opening_hand_Mage Hunter', \"opening_hand_Mage Hunters' Onslaught\", 'opening_hand_Magma Opus', 'opening_hand_Make Your Mark', 'opening_hand_Mana Tithe', 'opening_hand_Manifestation Sage', 'opening_hand_Mascot Exhibition', 'opening_hand_Mascot Interception', 'opening_hand_Master Symmetrist', \"opening_hand_Mavinda, Students' Advocate\", 'opening_hand_Memory Lapse', \"opening_hand_Mentor's Guidance\", 'opening_hand_Mercurial Transformation', 'opening_hand_Mila, Crafty Companion', \"opening_hand_Mind's Desire\", \"opening_hand_Mizzix's Mastery\", 'opening_hand_Moldering Karok', 'opening_hand_Mortality Spear', 'opening_hand_Mountain', 'opening_hand_Multiple Choice', 'opening_hand_Natural Order', 'opening_hand_Necroblossom Snarl', 'opening_hand_Necrotic Fumes', 'opening_hand_Needlethorn Drake', 'opening_hand_Negate', 'opening_hand_Novice Dissector', 'opening_hand_Oggyar Battle-Seer', 'opening_hand_Opt', 'opening_hand_Oriq Loremage', 'opening_hand_Overgrown Arch', 'opening_hand_Owlin Shieldmage', 'opening_hand_Pest Summoning', 'opening_hand_Pestilent Cauldron', 'opening_hand_Pigment Storm', 'opening_hand_Pilgrim of the Ages', 'opening_hand_Pillardrop Rescuer', 'opening_hand_Pillardrop Warden', 'opening_hand_Plains', 'opening_hand_Plargg, Dean of Chaos', 'opening_hand_Plumb the Forbidden', \"opening_hand_Poet's Quill\", 'opening_hand_Pop Quiz', 'opening_hand_Practical Research', 'opening_hand_Primal Command', 'opening_hand_Prismari Apprentice', 'opening_hand_Prismari Campus', 'opening_hand_Prismari Command', 'opening_hand_Prismari Pledgemage', 'opening_hand_Professor Onyx', 'opening_hand_Professor of Symbology', 'opening_hand_Professor of Zoomancy', \"opening_hand_Professor's Warning\", 'opening_hand_Promising Duskmage', 'opening_hand_Putrefy', 'opening_hand_Quandrix Apprentice', 'opening_hand_Quandrix Campus', 'opening_hand_Quandrix Command', 'opening_hand_Quandrix Cultivator', 'opening_hand_Quandrix Pledgemage', 'opening_hand_Quintorius, Field Historian', 'opening_hand_Radiant Scrollwielder', 'opening_hand_Reckless Amplimancer', 'opening_hand_Reconstruct History', 'opening_hand_Reduce to Memory', 'opening_hand_Reflective Golem', 'opening_hand_Regrowth', 'opening_hand_Reject', 'opening_hand_Relic Sloth', 'opening_hand_Resculpt', 'opening_hand_Retriever Phoenix', 'opening_hand_Returned Pastcaller', 'opening_hand_Revitalize', 'opening_hand_Rip Apart', 'opening_hand_Rise of Extus', 'opening_hand_Rootha, Mercurial Artist', 'opening_hand_Rowan, Scholar of Sparks', 'opening_hand_Rushed Rebirth', 'opening_hand_Scurrid Colony', 'opening_hand_Secret Rendezvous', 'opening_hand_Sedgemoor Witch', 'opening_hand_Selfless Glyphweaver', \"opening_hand_Semester's End\", 'opening_hand_Serpentine Curve', 'opening_hand_Shadewing Laureate', 'opening_hand_Shadrix Silverquill', 'opening_hand_Shaile, Dean of Radiance', 'opening_hand_Shineshadow Snarl', 'opening_hand_Shock', 'opening_hand_Show of Confidence', 'opening_hand_Sign in Blood', 'opening_hand_Silverquill Apprentice', 'opening_hand_Silverquill Campus', 'opening_hand_Silverquill Command', 'opening_hand_Silverquill Pledgemage', 'opening_hand_Silverquill Silencer', 'opening_hand_Snakeskin Veil', 'opening_hand_Snow Day', 'opening_hand_Solve the Equation', 'opening_hand_Soothsayer Adept', 'opening_hand_Sparring Regimen', 'opening_hand_Spectacle Mage', 'opening_hand_Specter of the Fens', 'opening_hand_Spell Satchel', 'opening_hand_Spined Karok', 'opening_hand_Spirit Summoning', 'opening_hand_Spiteful Squad', 'opening_hand_Springmane Cervin', 'opening_hand_Square Up', 'opening_hand_Star Pupil', 'opening_hand_Start from Scratch', 'opening_hand_Stone Rain', \"opening_hand_Stonebinder's Familiar\", 'opening_hand_Stonebound Mentor', 'opening_hand_Stonerise Spirit', 'opening_hand_Storm-Kiln Artist', 'opening_hand_Strategic Planning', 'opening_hand_Strict Proctor', 'opening_hand_Strixhaven Stadium', 'opening_hand_Study Break', 'opening_hand_Sudden Breakthrough', 'opening_hand_Swamp', 'opening_hand_Swords to Plowshares', 'opening_hand_Symmetry Sage', 'opening_hand_Tainted Pact', 'opening_hand_Tanazir Quandrix', 'opening_hand_Tangletrap', 'opening_hand_Teach by Example', 'opening_hand_Teachings of the Archaics', 'opening_hand_Team Pennant', \"opening_hand_Teferi's Protection\", 'opening_hand_Tempted by the Oriq', 'opening_hand_Tend the Pests', 'opening_hand_Tendrils of Agony', 'opening_hand_Tenured Inkcaster', 'opening_hand_Test of Talents', \"opening_hand_Tezzeret's Gambit\", 'opening_hand_The Biblioplex', 'opening_hand_Thrill of Possibility', 'opening_hand_Thrilling Discovery', 'opening_hand_Thunderous Orator', 'opening_hand_Time Warp', 'opening_hand_Tome Shredder', 'opening_hand_Torrent Sculptor', 'opening_hand_Twinscroll Shaman', 'opening_hand_Umbral Juke', 'opening_hand_Unwilling Ingredient', \"opening_hand_Urza's Rage\", 'opening_hand_Uvilda, Dean of Perfection', 'opening_hand_Valentin, Dean of the Vein', 'opening_hand_Vanishing Verse', 'opening_hand_Velomachus Lorehold', 'opening_hand_Venerable Warsinger', 'opening_hand_Verdant Mastery', 'opening_hand_Village Rites', 'opening_hand_Vineglimmer Snarl', 'opening_hand_Vortex Runner', 'opening_hand_Wandering Archaic', 'opening_hand_Waterfall Aerialist', 'opening_hand_Weather the Storm', 'opening_hand_Whirlwind Denial', 'opening_hand_Witherbloom Apprentice', 'opening_hand_Witherbloom Campus', 'opening_hand_Witherbloom Command', 'opening_hand_Witherbloom Pledgemage', 'opening_hand_Wormhole Serpent', 'opening_hand_Zephyr Boots', 'opening_hand_Zimone, Quandrix Prodigy', 'drawn_Abundant Harvest', 'drawn_Academic Dispute', 'drawn_Academic Probation', 'drawn_Access Tunnel', 'drawn_Accomplished Alchemist', 'drawn_Adventurous Impulse', 'drawn_Aether Helix', 'drawn_Ageless Guardian', 'drawn_Agonizing Remorse', 'drawn_Approach of the Second Sun', 'drawn_Arcane Subtraction', 'drawn_Archmage Emeritus', 'drawn_Archway Commons', 'drawn_Ardent Dustspeaker', 'drawn_Arrogant Poet', 'drawn_Augmenter Pugilist', 'drawn_Baleful Mastery', 'drawn_Basic Conjuration', 'drawn_Bayou Groff', 'drawn_Beaming Defiance', 'drawn_Beledros Witherbloom', 'drawn_Biblioplex Assistant', 'drawn_Big Play', 'drawn_Biomathematician', 'drawn_Blade Historian', 'drawn_Blex, Vexing Pest', 'drawn_Blood Age General', 'drawn_Blood Researcher', 'drawn_Blot Out the Sky', \"drawn_Blue Sun's Zenith\", 'drawn_Body of Research', 'drawn_Bookwurm', 'drawn_Brackish Trudge', 'drawn_Brainstorm', 'drawn_Burrog Befuddler', 'drawn_Bury in Books', 'drawn_Callous Bloodmage', 'drawn_Campus Guide', 'drawn_Channel', 'drawn_Chaos Warp', 'drawn_Charge Through', 'drawn_Claim the Firstborn', 'drawn_Clever Lumimancer', 'drawn_Closing Statement', 'drawn_Codie, Vociferous Codex', 'drawn_Cogwork Archivist', 'drawn_Combat Professor', 'drawn_Compulsive Research', 'drawn_Confront the Past', 'drawn_Conspiracy Theorist', 'drawn_Containment Breach', 'drawn_Counterspell', 'drawn_Crackle with Power', 'drawn_Cram Session', 'drawn_Creative Outburst', 'drawn_Crushing Disappointment', 'drawn_Crux of Fate', 'drawn_Culling Ritual', 'drawn_Culmination of Studies', 'drawn_Cultivate', 'drawn_Curate', 'drawn_Daemogoth Titan', 'drawn_Daemogoth Woe-Eater', 'drawn_Dark Ritual', 'drawn_Day of Judgment', 'drawn_Deadly Brew', 'drawn_Decisive Denial', 'drawn_Defend the Campus', 'drawn_Defiant Strike', 'drawn_Demonic Tutor', 'drawn_Despark', 'drawn_Detention Vortex', 'drawn_Devastating Mastery', 'drawn_Devouring Tendrils', 'drawn_Dina, Soul Steeper', 'drawn_Divide by Zero', 'drawn_Divine Gambit', 'drawn_Doom Blade', 'drawn_Double Major', 'drawn_Draconic Intervention', \"drawn_Dragon's Approach\", 'drawn_Dragonsguard Elite', 'drawn_Dramatic Finale', 'drawn_Dream Strix', 'drawn_Dueling Coach', 'drawn_Duress', 'drawn_Eager First-Year', 'drawn_Ecological Appreciation', 'drawn_Efreet Flamepainter', 'drawn_Electrolyze', 'drawn_Elemental Expressionist', 'drawn_Elemental Masterpiece', 'drawn_Elemental Summoning', 'drawn_Eliminate', 'drawn_Elite Spellbinder', 'drawn_Emergent Sequence', 'drawn_Enthusiastic Study', 'drawn_Environmental Sciences', 'drawn_Ephemerate', 'drawn_Essence Infusion', 'drawn_Eureka Moment', 'drawn_Excavated Wall', 'drawn_Exhilarating Elocution', 'drawn_Expanded Anatomy', 'drawn_Expel', 'drawn_Explosive Welcome', 'drawn_Exponential Growth', 'drawn_Expressive Iteration', 'drawn_Extus, Oriq Overlord', 'drawn_Eyetwitch', 'drawn_Faithless Looting', 'drawn_Fervent Mastery', 'drawn_Field Trip', 'drawn_First Day of Class', 'drawn_Flamescroll Celebrant', 'drawn_Flunk', 'drawn_Forest', 'drawn_Fortifying Draught', 'drawn_Fractal Summoning', 'drawn_Fracture', 'drawn_Frost Trickster', 'drawn_Frostboil Snarl', 'drawn_Fuming Effigy', 'drawn_Furycalm Snarl', 'drawn_Galazeth Prismari', 'drawn_Gift of Estates', 'drawn_Gnarled Professor', 'drawn_Go Blank', 'drawn_Gods Willing', 'drawn_Golden Ratio', 'drawn_Grapeshot', 'drawn_Grinning Ignus', 'drawn_Growth Spiral', 'drawn_Guiding Voice', 'drawn_Hall Monitor', 'drawn_Hall of Oracles', 'drawn_Harmonize', 'drawn_Harness Infinity', 'drawn_Heated Debate', 'drawn_Hofri Ghostforge', 'drawn_Honor Troll', 'drawn_Humiliate', 'drawn_Hunt for Specimens', 'drawn_Igneous Inspiration', 'drawn_Illuminate History', 'drawn_Illustrious Historian', 'drawn_Increasing Vengeance', 'drawn_Infuriate', 'drawn_Infuse with Vitality', 'drawn_Ingenious Mastery', 'drawn_Inkling Summoning', 'drawn_Inquisition of Kozilek', 'drawn_Introduction to Annihilation', 'drawn_Introduction to Prophecy', 'drawn_Island', 'drawn_Jadzi, Oracle of Arcavios', 'drawn_Karok Wrangler', 'drawn_Kasmina, Enigma Sage', 'drawn_Kelpie Guide', 'drawn_Kianne, Dean of Substance', 'drawn_Killian, Ink Duelist', 'drawn_Krosan Grip', 'drawn_Lash of Malice', 'drawn_Leech Fanatic', 'drawn_Leonin Lightscribe', 'drawn_Letter of Acceptance', 'drawn_Leyline Invocation', 'drawn_Lightning Bolt', 'drawn_Lightning Helix', 'drawn_Lorehold Apprentice', 'drawn_Lorehold Campus', 'drawn_Lorehold Command', 'drawn_Lorehold Excavation', 'drawn_Lorehold Pledgemage', 'drawn_Maelstrom Muse', 'drawn_Mage Duel', 'drawn_Mage Hunter', \"drawn_Mage Hunters' Onslaught\", 'drawn_Magma Opus', 'drawn_Make Your Mark', 'drawn_Mana Tithe', 'drawn_Manifestation Sage', 'drawn_Mascot Exhibition', 'drawn_Mascot Interception', 'drawn_Master Symmetrist', \"drawn_Mavinda, Students' Advocate\", 'drawn_Memory Lapse', \"drawn_Mentor's Guidance\", 'drawn_Mercurial Transformation', 'drawn_Mila, Crafty Companion', \"drawn_Mind's Desire\", \"drawn_Mizzix's Mastery\", 'drawn_Moldering Karok', 'drawn_Mortality Spear', 'drawn_Mountain', 'drawn_Multiple Choice', 'drawn_Natural Order', 'drawn_Necroblossom Snarl', 'drawn_Necrotic Fumes', 'drawn_Needlethorn Drake', 'drawn_Negate', 'drawn_Novice Dissector', 'drawn_Oggyar Battle-Seer', 'drawn_Opt', 'drawn_Oriq Loremage', 'drawn_Overgrown Arch', 'drawn_Owlin Shieldmage', 'drawn_Pest Summoning', 'drawn_Pestilent Cauldron', 'drawn_Pigment Storm', 'drawn_Pilgrim of the Ages', 'drawn_Pillardrop Rescuer', 'drawn_Pillardrop Warden', 'drawn_Plains', 'drawn_Plargg, Dean of Chaos', 'drawn_Plumb the Forbidden', \"drawn_Poet's Quill\", 'drawn_Pop Quiz', 'drawn_Practical Research', 'drawn_Primal Command', 'drawn_Prismari Apprentice', 'drawn_Prismari Campus', 'drawn_Prismari Command', 'drawn_Prismari Pledgemage', 'drawn_Professor Onyx', 'drawn_Professor of Symbology', 'drawn_Professor of Zoomancy', \"drawn_Professor's Warning\", 'drawn_Promising Duskmage', 'drawn_Putrefy', 'drawn_Quandrix Apprentice', 'drawn_Quandrix Campus', 'drawn_Quandrix Command', 'drawn_Quandrix Cultivator', 'drawn_Quandrix Pledgemage', 'drawn_Quintorius, Field Historian', 'drawn_Radiant Scrollwielder', 'drawn_Reckless Amplimancer', 'drawn_Reconstruct History', 'drawn_Reduce to Memory', 'drawn_Reflective Golem', 'drawn_Regrowth', 'drawn_Reject', 'drawn_Relic Sloth', 'drawn_Resculpt', 'drawn_Retriever Phoenix', 'drawn_Returned Pastcaller', 'drawn_Revitalize', 'drawn_Rip Apart', 'drawn_Rise of Extus', 'drawn_Rootha, Mercurial Artist', 'drawn_Rowan, Scholar of Sparks', 'drawn_Rushed Rebirth', 'drawn_Scurrid Colony', 'drawn_Secret Rendezvous', 'drawn_Sedgemoor Witch', 'drawn_Selfless Glyphweaver', \"drawn_Semester's End\", 'drawn_Serpentine Curve', 'drawn_Shadewing Laureate', 'drawn_Shadrix Silverquill', 'drawn_Shaile, Dean of Radiance', 'drawn_Shineshadow Snarl', 'drawn_Shock', 'drawn_Show of Confidence', 'drawn_Sign in Blood', 'drawn_Silverquill Apprentice', 'drawn_Silverquill Campus', 'drawn_Silverquill Command', 'drawn_Silverquill Pledgemage', 'drawn_Silverquill Silencer', 'drawn_Snakeskin Veil', 'drawn_Snow Day', 'drawn_Solve the Equation', 'drawn_Soothsayer Adept', 'drawn_Sparring Regimen', 'drawn_Spectacle Mage', 'drawn_Specter of the Fens', 'drawn_Spell Satchel', 'drawn_Spined Karok', 'drawn_Spirit Summoning', 'drawn_Spiteful Squad', 'drawn_Springmane Cervin', 'drawn_Square Up', 'drawn_Star Pupil', 'drawn_Start from Scratch', 'drawn_Stone Rain', \"drawn_Stonebinder's Familiar\", 'drawn_Stonebound Mentor', 'drawn_Stonerise Spirit', 'drawn_Storm-Kiln Artist', 'drawn_Strategic Planning', 'drawn_Strict Proctor', 'drawn_Strixhaven Stadium', 'drawn_Study Break', 'drawn_Sudden Breakthrough', 'drawn_Swamp', 'drawn_Swords to Plowshares', 'drawn_Symmetry Sage', 'drawn_Tainted Pact', 'drawn_Tanazir Quandrix', 'drawn_Tangletrap', 'drawn_Teach by Example', 'drawn_Teachings of the Archaics', 'drawn_Team Pennant', \"drawn_Teferi's Protection\", 'drawn_Tempted by the Oriq', 'drawn_Tend the Pests', 'drawn_Tendrils of Agony', 'drawn_Tenured Inkcaster', 'drawn_Test of Talents', \"drawn_Tezzeret's Gambit\", 'drawn_The Biblioplex', 'drawn_Thrill of Possibility', 'drawn_Thrilling Discovery', 'drawn_Thunderous Orator', 'drawn_Time Warp', 'drawn_Tome Shredder', 'drawn_Torrent Sculptor', 'drawn_Twinscroll Shaman', 'drawn_Umbral Juke', 'drawn_Unwilling Ingredient', \"drawn_Urza's Rage\", 'drawn_Uvilda, Dean of Perfection', 'drawn_Valentin, Dean of the Vein', 'drawn_Vanishing Verse', 'drawn_Velomachus Lorehold', 'drawn_Venerable Warsinger', 'drawn_Verdant Mastery', 'drawn_Village Rites', 'drawn_Vineglimmer Snarl', 'drawn_Vortex Runner', 'drawn_Wandering Archaic', 'drawn_Waterfall Aerialist', 'drawn_Weather the Storm', 'drawn_Whirlwind Denial', 'drawn_Witherbloom Apprentice', 'drawn_Witherbloom Campus', 'drawn_Witherbloom Command', 'drawn_Witherbloom Pledgemage', 'drawn_Wormhole Serpent', 'drawn_Zephyr Boots', 'drawn_Zimone, Quandrix Prodigy', 'deck_Abundant Harvest', 'deck_Academic Dispute', 'deck_Academic Probation', 'deck_Access Tunnel', 'deck_Accomplished Alchemist', 'deck_Adventurous Impulse', 'deck_Aether Helix', 'deck_Ageless Guardian', 'deck_Agonizing Remorse', 'deck_Approach of the Second Sun', 'deck_Arcane Subtraction', 'deck_Archmage Emeritus', 'deck_Archway Commons', 'deck_Ardent Dustspeaker', 'deck_Arrogant Poet', 'deck_Augmenter Pugilist', 'deck_Baleful Mastery', 'deck_Basic Conjuration', 'deck_Bayou Groff', 'deck_Beaming Defiance', 'deck_Beledros Witherbloom', 'deck_Biblioplex Assistant', 'deck_Big Play', 'deck_Biomathematician', 'deck_Blade Historian', 'deck_Blex, Vexing Pest', 'deck_Blood Age General', 'deck_Blood Researcher', 'deck_Blot Out the Sky', \"deck_Blue Sun's Zenith\", 'deck_Body of Research', 'deck_Bookwurm', 'deck_Brackish Trudge', 'deck_Brainstorm', 'deck_Burrog Befuddler', 'deck_Bury in Books', 'deck_Callous Bloodmage', 'deck_Campus Guide', 'deck_Channel', 'deck_Chaos Warp', 'deck_Charge Through', 'deck_Claim the Firstborn', 'deck_Clever Lumimancer', 'deck_Closing Statement', 'deck_Codie, Vociferous Codex', 'deck_Cogwork Archivist', 'deck_Combat Professor', 'deck_Compulsive Research', 'deck_Confront the Past', 'deck_Conspiracy Theorist', 'deck_Containment Breach', 'deck_Counterspell', 'deck_Crackle with Power', 'deck_Cram Session', 'deck_Creative Outburst', 'deck_Crushing Disappointment', 'deck_Crux of Fate', 'deck_Culling Ritual', 'deck_Culmination of Studies', 'deck_Cultivate', 'deck_Curate', 'deck_Daemogoth Titan', 'deck_Daemogoth Woe-Eater', 'deck_Dark Ritual', 'deck_Day of Judgment', 'deck_Deadly Brew', 'deck_Decisive Denial', 'deck_Defend the Campus', 'deck_Defiant Strike', 'deck_Demonic Tutor', 'deck_Despark', 'deck_Detention Vortex', 'deck_Devastating Mastery', 'deck_Devouring Tendrils', 'deck_Dina, Soul Steeper', 'deck_Divide by Zero', 'deck_Divine Gambit', 'deck_Doom Blade', 'deck_Double Major', 'deck_Draconic Intervention', \"deck_Dragon's Approach\", 'deck_Dragonsguard Elite', 'deck_Dramatic Finale', 'deck_Dream Strix', 'deck_Dueling Coach', 'deck_Duress', 'deck_Eager First-Year', 'deck_Ecological Appreciation', 'deck_Efreet Flamepainter', 'deck_Electrolyze', 'deck_Elemental Expressionist', 'deck_Elemental Masterpiece', 'deck_Elemental Summoning', 'deck_Eliminate', 'deck_Elite Spellbinder', 'deck_Emergent Sequence', 'deck_Enthusiastic Study', 'deck_Environmental Sciences', 'deck_Ephemerate', 'deck_Essence Infusion', 'deck_Eureka Moment', 'deck_Excavated Wall', 'deck_Exhilarating Elocution', 'deck_Expanded Anatomy', 'deck_Expel', 'deck_Explosive Welcome', 'deck_Exponential Growth', 'deck_Expressive Iteration', 'deck_Extus, Oriq Overlord', 'deck_Eyetwitch', 'deck_Faithless Looting', 'deck_Fervent Mastery', 'deck_Field Trip', 'deck_First Day of Class', 'deck_Flamescroll Celebrant', 'deck_Flunk', 'deck_Forest', 'deck_Fortifying Draught', 'deck_Fractal Summoning', 'deck_Fracture', 'deck_Frost Trickster', 'deck_Frostboil Snarl', 'deck_Fuming Effigy', 'deck_Furycalm Snarl', 'deck_Galazeth Prismari', 'deck_Gift of Estates', 'deck_Gnarled Professor', 'deck_Go Blank', 'deck_Gods Willing', 'deck_Golden Ratio', 'deck_Grapeshot', 'deck_Grinning Ignus', 'deck_Growth Spiral', 'deck_Guiding Voice', 'deck_Hall Monitor', 'deck_Hall of Oracles', 'deck_Harmonize', 'deck_Harness Infinity', 'deck_Heated Debate', 'deck_Hofri Ghostforge', 'deck_Honor Troll', 'deck_Humiliate', 'deck_Hunt for Specimens', 'deck_Igneous Inspiration', 'deck_Illuminate History', 'deck_Illustrious Historian', 'deck_Increasing Vengeance', 'deck_Infuriate', 'deck_Infuse with Vitality', 'deck_Ingenious Mastery', 'deck_Inkling Summoning', 'deck_Inquisition of Kozilek', 'deck_Introduction to Annihilation', 'deck_Introduction to Prophecy', 'deck_Island', 'deck_Jadzi, Oracle of Arcavios', 'deck_Karok Wrangler', 'deck_Kasmina, Enigma Sage', 'deck_Kelpie Guide', 'deck_Kianne, Dean of Substance', 'deck_Killian, Ink Duelist', 'deck_Krosan Grip', 'deck_Lash of Malice', 'deck_Leech Fanatic', 'deck_Leonin Lightscribe', 'deck_Letter of Acceptance', 'deck_Leyline Invocation', 'deck_Lightning Bolt', 'deck_Lightning Helix', 'deck_Lorehold Apprentice', 'deck_Lorehold Campus', 'deck_Lorehold Command', 'deck_Lorehold Excavation', 'deck_Lorehold Pledgemage', 'deck_Maelstrom Muse', 'deck_Mage Duel', 'deck_Mage Hunter', \"deck_Mage Hunters' Onslaught\", 'deck_Magma Opus', 'deck_Make Your Mark', 'deck_Mana Tithe', 'deck_Manifestation Sage', 'deck_Mascot Exhibition', 'deck_Mascot Interception', 'deck_Master Symmetrist', \"deck_Mavinda, Students' Advocate\", 'deck_Memory Lapse', \"deck_Mentor's Guidance\", 'deck_Mercurial Transformation', 'deck_Mila, Crafty Companion', \"deck_Mind's Desire\", \"deck_Mizzix's Mastery\", 'deck_Moldering Karok', 'deck_Mortality Spear', 'deck_Mountain', 'deck_Multiple Choice', 'deck_Natural Order', 'deck_Necroblossom Snarl', 'deck_Necrotic Fumes', 'deck_Needlethorn Drake', 'deck_Negate', 'deck_Novice Dissector', 'deck_Oggyar Battle-Seer', 'deck_Opt', 'deck_Oriq Loremage', 'deck_Overgrown Arch', 'deck_Owlin Shieldmage', 'deck_Pest Summoning', 'deck_Pestilent Cauldron', 'deck_Pigment Storm', 'deck_Pilgrim of the Ages', 'deck_Pillardrop Rescuer', 'deck_Pillardrop Warden', 'deck_Plains', 'deck_Plargg, Dean of Chaos', 'deck_Plumb the Forbidden', \"deck_Poet's Quill\", 'deck_Pop Quiz', 'deck_Practical Research', 'deck_Primal Command', 'deck_Prismari Apprentice', 'deck_Prismari Campus', 'deck_Prismari Command', 'deck_Prismari Pledgemage', 'deck_Professor Onyx', 'deck_Professor of Symbology', 'deck_Professor of Zoomancy', \"deck_Professor's Warning\", 'deck_Promising Duskmage', 'deck_Putrefy', 'deck_Quandrix Apprentice', 'deck_Quandrix Campus', 'deck_Quandrix Command', 'deck_Quandrix Cultivator', 'deck_Quandrix Pledgemage', 'deck_Quintorius, Field Historian', 'deck_Radiant Scrollwielder', 'deck_Reckless Amplimancer', 'deck_Reconstruct History', 'deck_Reduce to Memory', 'deck_Reflective Golem', 'deck_Regrowth', 'deck_Reject', 'deck_Relic Sloth', 'deck_Resculpt', 'deck_Retriever Phoenix', 'deck_Returned Pastcaller', 'deck_Revitalize', 'deck_Rip Apart', 'deck_Rise of Extus', 'deck_Rootha, Mercurial Artist', 'deck_Rowan, Scholar of Sparks', 'deck_Rushed Rebirth', 'deck_Scurrid Colony', 'deck_Secret Rendezvous', 'deck_Sedgemoor Witch', 'deck_Selfless Glyphweaver', \"deck_Semester's End\", 'deck_Serpentine Curve', 'deck_Shadewing Laureate', 'deck_Shadrix Silverquill', 'deck_Shaile, Dean of Radiance', 'deck_Shineshadow Snarl', 'deck_Shock', 'deck_Show of Confidence', 'deck_Sign in Blood', 'deck_Silverquill Apprentice', 'deck_Silverquill Campus', 'deck_Silverquill Command', 'deck_Silverquill Pledgemage', 'deck_Silverquill Silencer', 'deck_Snakeskin Veil', 'deck_Snow Day', 'deck_Solve the Equation', 'deck_Soothsayer Adept', 'deck_Sparring Regimen', 'deck_Spectacle Mage', 'deck_Specter of the Fens', 'deck_Spell Satchel', 'deck_Spined Karok', 'deck_Spirit Summoning', 'deck_Spiteful Squad', 'deck_Springmane Cervin', 'deck_Square Up', 'deck_Star Pupil', 'deck_Start from Scratch', 'deck_Stone Rain', \"deck_Stonebinder's Familiar\", 'deck_Stonebound Mentor', 'deck_Stonerise Spirit', 'deck_Storm-Kiln Artist', 'deck_Strategic Planning', 'deck_Strict Proctor', 'deck_Strixhaven Stadium', 'deck_Study Break', 'deck_Sudden Breakthrough', 'deck_Swamp', 'deck_Swords to Plowshares', 'deck_Symmetry Sage', 'deck_Tainted Pact', 'deck_Tanazir Quandrix', 'deck_Tangletrap', 'deck_Teach by Example', 'deck_Teachings of the Archaics', 'deck_Team Pennant', \"deck_Teferi's Protection\", 'deck_Tempted by the Oriq', 'deck_Tend the Pests', 'deck_Tendrils of Agony', 'deck_Tenured Inkcaster', 'deck_Test of Talents', \"deck_Tezzeret's Gambit\", 'deck_The Biblioplex', 'deck_Thrill of Possibility', 'deck_Thrilling Discovery', 'deck_Thunderous Orator', 'deck_Time Warp', 'deck_Tome Shredder', 'deck_Torrent Sculptor', 'deck_Twinscroll Shaman', 'deck_Umbral Juke', 'deck_Unwilling Ingredient', \"deck_Urza's Rage\", 'deck_Uvilda, Dean of Perfection', 'deck_Valentin, Dean of the Vein', 'deck_Vanishing Verse', 'deck_Velomachus Lorehold', 'deck_Venerable Warsinger', 'deck_Verdant Mastery', 'deck_Village Rites', 'deck_Vineglimmer Snarl', 'deck_Vortex Runner', 'deck_Wandering Archaic', 'deck_Waterfall Aerialist', 'deck_Weather the Storm', 'deck_Whirlwind Denial', 'deck_Witherbloom Apprentice', 'deck_Witherbloom Campus', 'deck_Witherbloom Command', 'deck_Witherbloom Pledgemage', 'deck_Wormhole Serpent', 'deck_Zephyr Boots', 'deck_Zimone, Quandrix Prodigy', 'sideboard_Abundant Harvest', 'sideboard_Academic Dispute', 'sideboard_Academic Probation', 'sideboard_Access Tunnel', 'sideboard_Accomplished Alchemist', 'sideboard_Adventurous Impulse', 'sideboard_Aether Helix', 'sideboard_Ageless Guardian', 'sideboard_Agonizing Remorse', 'sideboard_Approach of the Second Sun', 'sideboard_Arcane Subtraction', 'sideboard_Archmage Emeritus', 'sideboard_Archway Commons', 'sideboard_Ardent Dustspeaker', 'sideboard_Arrogant Poet', 'sideboard_Augmenter Pugilist', 'sideboard_Baleful Mastery', 'sideboard_Basic Conjuration', 'sideboard_Bayou Groff', 'sideboard_Beaming Defiance', 'sideboard_Beledros Witherbloom', 'sideboard_Biblioplex Assistant', 'sideboard_Big Play', 'sideboard_Biomathematician', 'sideboard_Blade Historian', 'sideboard_Blex, Vexing Pest', 'sideboard_Blood Age General', 'sideboard_Blood Researcher', 'sideboard_Blot Out the Sky', \"sideboard_Blue Sun's Zenith\", 'sideboard_Body of Research', 'sideboard_Bookwurm', 'sideboard_Brackish Trudge', 'sideboard_Brainstorm', 'sideboard_Burrog Befuddler', 'sideboard_Bury in Books', 'sideboard_Callous Bloodmage', 'sideboard_Campus Guide', 'sideboard_Channel', 'sideboard_Chaos Warp', 'sideboard_Charge Through', 'sideboard_Claim the Firstborn', 'sideboard_Clever Lumimancer', 'sideboard_Closing Statement', 'sideboard_Codie, Vociferous Codex', 'sideboard_Cogwork Archivist', 'sideboard_Combat Professor', 'sideboard_Compulsive Research', 'sideboard_Confront the Past', 'sideboard_Conspiracy Theorist', 'sideboard_Containment Breach', 'sideboard_Counterspell', 'sideboard_Crackle with Power', 'sideboard_Cram Session', 'sideboard_Creative Outburst', 'sideboard_Crushing Disappointment', 'sideboard_Crux of Fate', 'sideboard_Culling Ritual', 'sideboard_Culmination of Studies', 'sideboard_Cultivate', 'sideboard_Curate', 'sideboard_Daemogoth Titan', 'sideboard_Daemogoth Woe-Eater', 'sideboard_Dark Ritual', 'sideboard_Day of Judgment', 'sideboard_Deadly Brew', 'sideboard_Decisive Denial', 'sideboard_Defend the Campus', 'sideboard_Defiant Strike', 'sideboard_Demonic Tutor', 'sideboard_Despark', 'sideboard_Detention Vortex', 'sideboard_Devastating Mastery', 'sideboard_Devouring Tendrils', 'sideboard_Dina, Soul Steeper', 'sideboard_Divide by Zero', 'sideboard_Divine Gambit', 'sideboard_Doom Blade', 'sideboard_Double Major', 'sideboard_Draconic Intervention', \"sideboard_Dragon's Approach\", 'sideboard_Dragonsguard Elite', 'sideboard_Dramatic Finale', 'sideboard_Dream Strix', 'sideboard_Dueling Coach', 'sideboard_Duress', 'sideboard_Eager First-Year', 'sideboard_Ecological Appreciation', 'sideboard_Efreet Flamepainter', 'sideboard_Electrolyze', 'sideboard_Elemental Expressionist', 'sideboard_Elemental Masterpiece', 'sideboard_Elemental Summoning', 'sideboard_Eliminate', 'sideboard_Elite Spellbinder', 'sideboard_Emergent Sequence', 'sideboard_Enthusiastic Study', 'sideboard_Environmental Sciences', 'sideboard_Ephemerate', 'sideboard_Essence Infusion', 'sideboard_Eureka Moment', 'sideboard_Excavated Wall', 'sideboard_Exhilarating Elocution', 'sideboard_Expanded Anatomy', 'sideboard_Expel', 'sideboard_Explosive Welcome', 'sideboard_Exponential Growth', 'sideboard_Expressive Iteration', 'sideboard_Extus, Oriq Overlord', 'sideboard_Eyetwitch', 'sideboard_Faithless Looting', 'sideboard_Fervent Mastery', 'sideboard_Field Trip', 'sideboard_First Day of Class', 'sideboard_Flamescroll Celebrant', 'sideboard_Flunk', 'sideboard_Forest', 'sideboard_Fortifying Draught', 'sideboard_Fractal Summoning', 'sideboard_Fracture', 'sideboard_Frost Trickster', 'sideboard_Frostboil Snarl', 'sideboard_Fuming Effigy', 'sideboard_Furycalm Snarl', 'sideboard_Galazeth Prismari', 'sideboard_Gift of Estates', 'sideboard_Gnarled Professor', 'sideboard_Go Blank', 'sideboard_Gods Willing', 'sideboard_Golden Ratio', 'sideboard_Grapeshot', 'sideboard_Grinning Ignus', 'sideboard_Growth Spiral', 'sideboard_Guiding Voice', 'sideboard_Hall Monitor', 'sideboard_Hall of Oracles', 'sideboard_Harmonize', 'sideboard_Harness Infinity', 'sideboard_Heated Debate', 'sideboard_Hofri Ghostforge', 'sideboard_Honor Troll', 'sideboard_Humiliate', 'sideboard_Hunt for Specimens', 'sideboard_Igneous Inspiration', 'sideboard_Illuminate History', 'sideboard_Illustrious Historian', 'sideboard_Increasing Vengeance', 'sideboard_Infuriate', 'sideboard_Infuse with Vitality', 'sideboard_Ingenious Mastery', 'sideboard_Inkling Summoning', 'sideboard_Inquisition of Kozilek', 'sideboard_Introduction to Annihilation', 'sideboard_Introduction to Prophecy', 'sideboard_Island', 'sideboard_Jadzi, Oracle of Arcavios', 'sideboard_Karok Wrangler', 'sideboard_Kasmina, Enigma Sage', 'sideboard_Kelpie Guide', 'sideboard_Kianne, Dean of Substance', 'sideboard_Killian, Ink Duelist', 'sideboard_Krosan Grip', 'sideboard_Lash of Malice', 'sideboard_Leech Fanatic', 'sideboard_Leonin Lightscribe', 'sideboard_Letter of Acceptance', 'sideboard_Leyline Invocation', 'sideboard_Lightning Bolt', 'sideboard_Lightning Helix', 'sideboard_Lorehold Apprentice', 'sideboard_Lorehold Campus', 'sideboard_Lorehold Command', 'sideboard_Lorehold Excavation', 'sideboard_Lorehold Pledgemage', 'sideboard_Maelstrom Muse', 'sideboard_Mage Duel', 'sideboard_Mage Hunter', \"sideboard_Mage Hunters' Onslaught\", 'sideboard_Magma Opus', 'sideboard_Make Your Mark', 'sideboard_Mana Tithe', 'sideboard_Manifestation Sage', 'sideboard_Mascot Exhibition', 'sideboard_Mascot Interception', 'sideboard_Master Symmetrist', \"sideboard_Mavinda, Students' Advocate\", 'sideboard_Memory Lapse', \"sideboard_Mentor's Guidance\", 'sideboard_Mercurial Transformation', 'sideboard_Mila, Crafty Companion', \"sideboard_Mind's Desire\", \"sideboard_Mizzix's Mastery\", 'sideboard_Moldering Karok', 'sideboard_Mortality Spear', 'sideboard_Mountain', 'sideboard_Multiple Choice', 'sideboard_Natural Order', 'sideboard_Necroblossom Snarl', 'sideboard_Necrotic Fumes', 'sideboard_Needlethorn Drake', 'sideboard_Negate', 'sideboard_Novice Dissector', 'sideboard_Oggyar Battle-Seer', 'sideboard_Opt', 'sideboard_Oriq Loremage', 'sideboard_Overgrown Arch', 'sideboard_Owlin Shieldmage', 'sideboard_Pest Summoning', 'sideboard_Pestilent Cauldron', 'sideboard_Pigment Storm', 'sideboard_Pilgrim of the Ages', 'sideboard_Pillardrop Rescuer', 'sideboard_Pillardrop Warden', 'sideboard_Plains', 'sideboard_Plargg, Dean of Chaos', 'sideboard_Plumb the Forbidden', \"sideboard_Poet's Quill\", 'sideboard_Pop Quiz', 'sideboard_Practical Research', 'sideboard_Primal Command', 'sideboard_Prismari Apprentice', 'sideboard_Prismari Campus', 'sideboard_Prismari Command', 'sideboard_Prismari Pledgemage', 'sideboard_Professor Onyx', 'sideboard_Professor of Symbology', 'sideboard_Professor of Zoomancy', \"sideboard_Professor's Warning\", 'sideboard_Promising Duskmage', 'sideboard_Putrefy', 'sideboard_Quandrix Apprentice', 'sideboard_Quandrix Campus', 'sideboard_Quandrix Command', 'sideboard_Quandrix Cultivator', 'sideboard_Quandrix Pledgemage', 'sideboard_Quintorius, Field Historian', 'sideboard_Radiant Scrollwielder', 'sideboard_Reckless Amplimancer', 'sideboard_Reconstruct History', 'sideboard_Reduce to Memory', 'sideboard_Reflective Golem', 'sideboard_Regrowth', 'sideboard_Reject', 'sideboard_Relic Sloth', 'sideboard_Resculpt', 'sideboard_Retriever Phoenix', 'sideboard_Returned Pastcaller', 'sideboard_Revitalize', 'sideboard_Rip Apart', 'sideboard_Rise of Extus', 'sideboard_Rootha, Mercurial Artist', 'sideboard_Rowan, Scholar of Sparks', 'sideboard_Rushed Rebirth', 'sideboard_Scurrid Colony', 'sideboard_Secret Rendezvous', 'sideboard_Sedgemoor Witch', 'sideboard_Selfless Glyphweaver', \"sideboard_Semester's End\", 'sideboard_Serpentine Curve', 'sideboard_Shadewing Laureate', 'sideboard_Shadrix Silverquill', 'sideboard_Shaile, Dean of Radiance', 'sideboard_Shineshadow Snarl', 'sideboard_Shock', 'sideboard_Show of Confidence', 'sideboard_Sign in Blood', 'sideboard_Silverquill Apprentice', 'sideboard_Silverquill Campus', 'sideboard_Silverquill Command', 'sideboard_Silverquill Pledgemage', 'sideboard_Silverquill Silencer', 'sideboard_Snakeskin Veil', 'sideboard_Snow Day', 'sideboard_Solve the Equation', 'sideboard_Soothsayer Adept', 'sideboard_Sparring Regimen', 'sideboard_Spectacle Mage', 'sideboard_Specter of the Fens', 'sideboard_Spell Satchel', 'sideboard_Spined Karok', 'sideboard_Spirit Summoning', 'sideboard_Spiteful Squad', 'sideboard_Springmane Cervin', 'sideboard_Square Up', 'sideboard_Star Pupil', 'sideboard_Start from Scratch', 'sideboard_Stone Rain', \"sideboard_Stonebinder's Familiar\", 'sideboard_Stonebound Mentor', 'sideboard_Stonerise Spirit', 'sideboard_Storm-Kiln Artist', 'sideboard_Strategic Planning', 'sideboard_Strict Proctor', 'sideboard_Strixhaven Stadium', 'sideboard_Study Break', 'sideboard_Sudden Breakthrough', 'sideboard_Swamp', 'sideboard_Swords to Plowshares', 'sideboard_Symmetry Sage', 'sideboard_Tainted Pact', 'sideboard_Tanazir Quandrix', 'sideboard_Tangletrap', 'sideboard_Teach by Example', 'sideboard_Teachings of the Archaics', 'sideboard_Team Pennant', \"sideboard_Teferi's Protection\", 'sideboard_Tempted by the Oriq', 'sideboard_Tend the Pests', 'sideboard_Tendrils of Agony', 'sideboard_Tenured Inkcaster', 'sideboard_Test of Talents', \"sideboard_Tezzeret's Gambit\", 'sideboard_The Biblioplex', 'sideboard_Thrill of Possibility', 'sideboard_Thrilling Discovery', 'sideboard_Thunderous Orator', 'sideboard_Time Warp', 'sideboard_Tome Shredder', 'sideboard_Torrent Sculptor', 'sideboard_Twinscroll Shaman', 'sideboard_Umbral Juke', 'sideboard_Unwilling Ingredient', \"sideboard_Urza's Rage\", 'sideboard_Uvilda, Dean of Perfection', 'sideboard_Valentin, Dean of the Vein', 'sideboard_Vanishing Verse', 'sideboard_Velomachus Lorehold', 'sideboard_Venerable Warsinger', 'sideboard_Verdant Mastery', 'sideboard_Village Rites', 'sideboard_Vineglimmer Snarl', 'sideboard_Vortex Runner', 'sideboard_Wandering Archaic', 'sideboard_Waterfall Aerialist', 'sideboard_Weather the Storm', 'sideboard_Whirlwind Denial', 'sideboard_Witherbloom Apprentice', 'sideboard_Witherbloom Campus', 'sideboard_Witherbloom Command', 'sideboard_Witherbloom Pledgemage', 'sideboard_Wormhole Serpent', 'sideboard_Zephyr Boots', 'sideboard_Zimone, Quandrix Prodigy']\n"
     ]
    },
    {
     "data": {
      "text/html": [
       "<div>\n",
       "<style scoped>\n",
       "    .dataframe tbody tr th:only-of-type {\n",
       "        vertical-align: middle;\n",
       "    }\n",
       "\n",
       "    .dataframe tbody tr th {\n",
       "        vertical-align: top;\n",
       "    }\n",
       "\n",
       "    .dataframe thead th {\n",
       "        text-align: right;\n",
       "    }\n",
       "</style>\n",
       "<table border=\"1\" class=\"dataframe\">\n",
       "  <thead>\n",
       "    <tr style=\"text-align: right;\">\n",
       "      <th></th>\n",
       "      <th>game_data_public.STX.PremierDraft.csv</th>\n",
       "      <th>user_n_games_bucket</th>\n",
       "      <th>draft_id</th>\n",
       "      <th>build_index</th>\n",
       "      <th>draft_time</th>\n",
       "      <th>expansion</th>\n",
       "      <th>event_type</th>\n",
       "      <th>game_number</th>\n",
       "      <th>rank</th>\n",
       "      <th>opp_rank</th>\n",
       "      <th>...</th>\n",
       "      <th>sideboard_Waterfall Aerialist</th>\n",
       "      <th>sideboard_Weather the Storm</th>\n",
       "      <th>sideboard_Whirlwind Denial</th>\n",
       "      <th>sideboard_Witherbloom Apprentice</th>\n",
       "      <th>sideboard_Witherbloom Campus</th>\n",
       "      <th>sideboard_Witherbloom Command</th>\n",
       "      <th>sideboard_Witherbloom Pledgemage</th>\n",
       "      <th>sideboard_Wormhole Serpent</th>\n",
       "      <th>sideboard_Zephyr Boots</th>\n",
       "      <th>sideboard_Zimone, Quandrix Prodigy</th>\n",
       "    </tr>\n",
       "  </thead>\n",
       "  <tbody>\n",
       "    <tr>\n",
       "      <th>0</th>\n",
       "      <td>0.52</td>\n",
       "      <td>100.0</td>\n",
       "      <td>3c8a8479507f4ad88990e6ada2c9d0e8</td>\n",
       "      <td>0.0</td>\n",
       "      <td>2021-05-07 03:21:49</td>\n",
       "      <td>STX</td>\n",
       "      <td>PremierDraft</td>\n",
       "      <td>1.0</td>\n",
       "      <td>Platinum-4-0-0-0</td>\n",
       "      <td>Platinum-3-0-0-None</td>\n",
       "      <td>...</td>\n",
       "      <td>0.0</td>\n",
       "      <td>0.0</td>\n",
       "      <td>0.0</td>\n",
       "      <td>0.0</td>\n",
       "      <td>0.0</td>\n",
       "      <td>0.0</td>\n",
       "      <td>0.0</td>\n",
       "      <td>0.0</td>\n",
       "      <td>0.0</td>\n",
       "      <td>0.0</td>\n",
       "    </tr>\n",
       "    <tr>\n",
       "      <th>1</th>\n",
       "      <td>0.52</td>\n",
       "      <td>100.0</td>\n",
       "      <td>3c8a8479507f4ad88990e6ada2c9d0e8</td>\n",
       "      <td>0.0</td>\n",
       "      <td>2021-05-07 03:21:49</td>\n",
       "      <td>STX</td>\n",
       "      <td>PremierDraft</td>\n",
       "      <td>1.0</td>\n",
       "      <td>Platinum-4-0-0-0</td>\n",
       "      <td>Platinum-1-0-0-None</td>\n",
       "      <td>...</td>\n",
       "      <td>0.0</td>\n",
       "      <td>0.0</td>\n",
       "      <td>0.0</td>\n",
       "      <td>0.0</td>\n",
       "      <td>0.0</td>\n",
       "      <td>0.0</td>\n",
       "      <td>0.0</td>\n",
       "      <td>0.0</td>\n",
       "      <td>0.0</td>\n",
       "      <td>0.0</td>\n",
       "    </tr>\n",
       "    <tr>\n",
       "      <th>2</th>\n",
       "      <td>0.52</td>\n",
       "      <td>100.0</td>\n",
       "      <td>3c8a8479507f4ad88990e6ada2c9d0e8</td>\n",
       "      <td>0.0</td>\n",
       "      <td>2021-05-07 03:21:49</td>\n",
       "      <td>STX</td>\n",
       "      <td>PremierDraft</td>\n",
       "      <td>1.0</td>\n",
       "      <td>Platinum-4-0-0-0</td>\n",
       "      <td>Platinum-4-0-0-None</td>\n",
       "      <td>...</td>\n",
       "      <td>0.0</td>\n",
       "      <td>0.0</td>\n",
       "      <td>0.0</td>\n",
       "      <td>0.0</td>\n",
       "      <td>0.0</td>\n",
       "      <td>0.0</td>\n",
       "      <td>0.0</td>\n",
       "      <td>0.0</td>\n",
       "      <td>0.0</td>\n",
       "      <td>0.0</td>\n",
       "    </tr>\n",
       "    <tr>\n",
       "      <th>3</th>\n",
       "      <td>0.52</td>\n",
       "      <td>100.0</td>\n",
       "      <td>0d3260a1bcee4ddf8d6a5e649d7cd436</td>\n",
       "      <td>0.0</td>\n",
       "      <td>2021-05-05 04:11:17</td>\n",
       "      <td>STX</td>\n",
       "      <td>PremierDraft</td>\n",
       "      <td>1.0</td>\n",
       "      <td>Platinum-4-0-0-1</td>\n",
       "      <td>Platinum-4-0-0-None</td>\n",
       "      <td>...</td>\n",
       "      <td>0.0</td>\n",
       "      <td>0.0</td>\n",
       "      <td>0.0</td>\n",
       "      <td>0.0</td>\n",
       "      <td>0.0</td>\n",
       "      <td>0.0</td>\n",
       "      <td>0.0</td>\n",
       "      <td>1.0</td>\n",
       "      <td>1.0</td>\n",
       "      <td>0.0</td>\n",
       "    </tr>\n",
       "    <tr>\n",
       "      <th>4</th>\n",
       "      <td>0.52</td>\n",
       "      <td>100.0</td>\n",
       "      <td>0d3260a1bcee4ddf8d6a5e649d7cd436</td>\n",
       "      <td>0.0</td>\n",
       "      <td>2021-05-05 04:11:17</td>\n",
       "      <td>STX</td>\n",
       "      <td>PremierDraft</td>\n",
       "      <td>1.0</td>\n",
       "      <td>Platinum-4-0-0-0</td>\n",
       "      <td>Platinum-4-0-0-None</td>\n",
       "      <td>...</td>\n",
       "      <td>0.0</td>\n",
       "      <td>0.0</td>\n",
       "      <td>0.0</td>\n",
       "      <td>0.0</td>\n",
       "      <td>0.0</td>\n",
       "      <td>0.0</td>\n",
       "      <td>0.0</td>\n",
       "      <td>1.0</td>\n",
       "      <td>1.0</td>\n",
       "      <td>0.0</td>\n",
       "    </tr>\n",
       "  </tbody>\n",
       "</table>\n",
       "<p>5 rows × 1388 columns</p>\n",
       "</div>"
      ],
      "text/plain": [
       "   game_data_public.STX.PremierDraft.csv  user_n_games_bucket  \\\n",
       "0                                   0.52                100.0   \n",
       "1                                   0.52                100.0   \n",
       "2                                   0.52                100.0   \n",
       "3                                   0.52                100.0   \n",
       "4                                   0.52                100.0   \n",
       "\n",
       "                           draft_id  build_index           draft_time  \\\n",
       "0  3c8a8479507f4ad88990e6ada2c9d0e8          0.0  2021-05-07 03:21:49   \n",
       "1  3c8a8479507f4ad88990e6ada2c9d0e8          0.0  2021-05-07 03:21:49   \n",
       "2  3c8a8479507f4ad88990e6ada2c9d0e8          0.0  2021-05-07 03:21:49   \n",
       "3  0d3260a1bcee4ddf8d6a5e649d7cd436          0.0  2021-05-05 04:11:17   \n",
       "4  0d3260a1bcee4ddf8d6a5e649d7cd436          0.0  2021-05-05 04:11:17   \n",
       "\n",
       "  expansion    event_type  game_number              rank             opp_rank  \\\n",
       "0       STX  PremierDraft          1.0  Platinum-4-0-0-0  Platinum-3-0-0-None   \n",
       "1       STX  PremierDraft          1.0  Platinum-4-0-0-0  Platinum-1-0-0-None   \n",
       "2       STX  PremierDraft          1.0  Platinum-4-0-0-0  Platinum-4-0-0-None   \n",
       "3       STX  PremierDraft          1.0  Platinum-4-0-0-1  Platinum-4-0-0-None   \n",
       "4       STX  PremierDraft          1.0  Platinum-4-0-0-0  Platinum-4-0-0-None   \n",
       "\n",
       "   ... sideboard_Waterfall Aerialist  sideboard_Weather the Storm  \\\n",
       "0  ...                           0.0                          0.0   \n",
       "1  ...                           0.0                          0.0   \n",
       "2  ...                           0.0                          0.0   \n",
       "3  ...                           0.0                          0.0   \n",
       "4  ...                           0.0                          0.0   \n",
       "\n",
       "   sideboard_Whirlwind Denial sideboard_Witherbloom Apprentice  \\\n",
       "0                         0.0                              0.0   \n",
       "1                         0.0                              0.0   \n",
       "2                         0.0                              0.0   \n",
       "3                         0.0                              0.0   \n",
       "4                         0.0                              0.0   \n",
       "\n",
       "   sideboard_Witherbloom Campus sideboard_Witherbloom Command  \\\n",
       "0                           0.0                           0.0   \n",
       "1                           0.0                           0.0   \n",
       "2                           0.0                           0.0   \n",
       "3                           0.0                           0.0   \n",
       "4                           0.0                           0.0   \n",
       "\n",
       "   sideboard_Witherbloom Pledgemage  sideboard_Wormhole Serpent  \\\n",
       "0                               0.0                         0.0   \n",
       "1                               0.0                         0.0   \n",
       "2                               0.0                         0.0   \n",
       "3                               0.0                         1.0   \n",
       "4                               0.0                         1.0   \n",
       "\n",
       "   sideboard_Zephyr Boots  sideboard_Zimone, Quandrix Prodigy  \n",
       "0                     0.0                                 0.0  \n",
       "1                     0.0                                 0.0  \n",
       "2                     0.0                                 0.0  \n",
       "3                     1.0                                 0.0  \n",
       "4                     1.0                                 0.0  \n",
       "\n",
       "[5 rows x 1388 columns]"
      ]
     },
     "execution_count": 29,
     "metadata": {},
     "output_type": "execute_result"
    }
   ],
   "source": [
    "data.dropna(axis=0, inplace=True) # last row was na, just getting rid of any other rows that also could be\n",
    "print(f'Data shape: {data.shape}')\n",
    "print(f'Whats in the cols? {list(data.columns)}')\n",
    "data.head()"
   ]
  },
  {
   "cell_type": "markdown",
   "metadata": {},
   "source": [
    "Here we can kind of see that each row is one instance of a game, (ie. there can be multiple rows with the same `draft_id` because each time they play they will have a different instance)\n",
    "\n",
    "The meat of the data are 4 vectors of length S concatenated, where S is the set size. These 4 vectors represent counts of cards' presence in (1) the opening hand (2) drawn in game (3) overall deck (4) sideboard.\n",
    "\n",
    "Some of the natural \"annotations\" include player rank, op rank, whether player won or not, number of turns, mulligans etc."
   ]
  },
  {
   "cell_type": "code",
   "execution_count": 30,
   "metadata": {},
   "outputs": [],
   "source": [
    "wins = data.won\n",
    "open_hands = data.iloc[:, [\"opening_hand\" in col for col in data.columns]]"
   ]
  },
  {
   "cell_type": "markdown",
   "metadata": {},
   "source": [
    "## Logisitic regression prediction"
   ]
  },
  {
   "cell_type": "code",
   "execution_count": 47,
   "metadata": {},
   "outputs": [],
   "source": [
    "import sklearn.linear_model\n",
    "import matplotlib.pyplot as plt"
   ]
  },
  {
   "cell_type": "code",
   "execution_count": 33,
   "metadata": {},
   "outputs": [],
   "source": [
    "model = sklearn.linear_model.LogisticRegression()"
   ]
  },
  {
   "cell_type": "code",
   "execution_count": 41,
   "metadata": {
    "scrolled": true
   },
   "outputs": [
    {
     "name": "stderr",
     "output_type": "stream",
     "text": [
      "/Users/bren/miniconda3/lib/python3.8/site-packages/sklearn/linear_model/_logistic.py:763: ConvergenceWarning: lbfgs failed to converge (status=1):\n",
      "STOP: TOTAL NO. of ITERATIONS REACHED LIMIT.\n",
      "\n",
      "Increase the number of iterations (max_iter) or scale the data as shown in:\n",
      "    https://scikit-learn.org/stable/modules/preprocessing.html\n",
      "Please also refer to the documentation for alternative solver options:\n",
      "    https://scikit-learn.org/stable/modules/linear_model.html#logistic-regression\n",
      "  n_iter_i = _check_optimize_result(\n"
     ]
    }
   ],
   "source": [
    "lg = model.fit(open_hands.to_numpy(), wins.to_numpy().astype(int))"
   ]
  },
  {
   "cell_type": "code",
   "execution_count": 43,
   "metadata": {},
   "outputs": [],
   "source": [
    "preds= lg.predict_proba(open_hands.to_numpy())"
   ]
  },
  {
   "cell_type": "code",
   "execution_count": 50,
   "metadata": {},
   "outputs": [],
   "source": [
    "%matplotlib inline"
   ]
  },
  {
   "cell_type": "code",
   "execution_count": 51,
   "metadata": {},
   "outputs": [
    {
     "data": {
      "text/plain": [
       "<matplotlib.collections.PathCollection at 0x7fb946d6aaf0>"
      ]
     },
     "execution_count": 51,
     "metadata": {},
     "output_type": "execute_result"
    },
    {
     "data": {
      "image/png": "[encoded data removed]",
      "text/plain": [
       "<Figure size 432x288 with 1 Axes>"
      ]
     },
     "metadata": {
      "needs_background": "light"
     },
     "output_type": "display_data"
    }
   ],
   "source": [
    "plt.scatter(wins.to_numpy().astype(int), preds[:,1])"
   ]
  },
  {
   "cell_type": "code",
   "execution_count": 52,
   "metadata": {},
   "outputs": [],
   "source": [
    "import seaborn as sns"
   ]
  },
  {
   "cell_type": "code",
   "execution_count": 63,
   "metadata": {},
   "outputs": [
    {
     "ename": "KeyboardInterrupt",
     "evalue": "",
     "output_type": "error",
     "traceback": [
      "\u001b[0;31m---------------------------------------------------------------------------\u001b[0m",
      "\u001b[0;31mKeyboardInterrupt\u001b[0m                         Traceback (most recent call last)",
      "\u001b[0;32m<ipython-input-63-7f7cad021698>\u001b[0m in \u001b[0;36m<module>\u001b[0;34m\u001b[0m\n\u001b[1;32m      1\u001b[0m \u001b[0mdf\u001b[0m \u001b[0;34m=\u001b[0m \u001b[0mpd\u001b[0m\u001b[0;34m.\u001b[0m\u001b[0mDataFrame\u001b[0m\u001b[0;34m(\u001b[0m\u001b[0mpreds\u001b[0m\u001b[0;34m[\u001b[0m\u001b[0;34m:\u001b[0m\u001b[0;34m,\u001b[0m\u001b[0;36m1\u001b[0m\u001b[0;34m]\u001b[0m\u001b[0;34m,\u001b[0m \u001b[0mwins\u001b[0m\u001b[0;34m)\u001b[0m\u001b[0;34m\u001b[0m\u001b[0;34m\u001b[0m\u001b[0m\n\u001b[0;32m----> 2\u001b[0;31m \u001b[0msns\u001b[0m\u001b[0;34m.\u001b[0m\u001b[0mviolinplot\u001b[0m\u001b[0;34m(\u001b[0m\u001b[0mx\u001b[0m\u001b[0;34m=\u001b[0m\u001b[0mpreds\u001b[0m\u001b[0;34m[\u001b[0m\u001b[0;34m:\u001b[0m\u001b[0;34m,\u001b[0m\u001b[0;36m1\u001b[0m\u001b[0;34m]\u001b[0m\u001b[0;34m,\u001b[0m \u001b[0my\u001b[0m\u001b[0;34m=\u001b[0m\u001b[0mwins\u001b[0m\u001b[0;34m.\u001b[0m\u001b[0mto_numpy\u001b[0m\u001b[0;34m(\u001b[0m\u001b[0;34m)\u001b[0m\u001b[0;34m.\u001b[0m\u001b[0mastype\u001b[0m\u001b[0;34m(\u001b[0m\u001b[0mint\u001b[0m\u001b[0;34m)\u001b[0m\u001b[0;34m)\u001b[0m\u001b[0;34m\u001b[0m\u001b[0;34m\u001b[0m\u001b[0m\n\u001b[0m",
      "\u001b[0;32m~/miniconda3/lib/python3.8/site-packages/seaborn/_decorators.py\u001b[0m in \u001b[0;36minner_f\u001b[0;34m(*args, **kwargs)\u001b[0m\n\u001b[1;32m     44\u001b[0m             )\n\u001b[1;32m     45\u001b[0m         \u001b[0mkwargs\u001b[0m\u001b[0;34m.\u001b[0m\u001b[0mupdate\u001b[0m\u001b[0;34m(\u001b[0m\u001b[0;34m{\u001b[0m\u001b[0mk\u001b[0m\u001b[0;34m:\u001b[0m \u001b[0marg\u001b[0m \u001b[0;32mfor\u001b[0m \u001b[0mk\u001b[0m\u001b[0;34m,\u001b[0m \u001b[0marg\u001b[0m \u001b[0;32min\u001b[0m \u001b[0mzip\u001b[0m\u001b[0;34m(\u001b[0m\u001b[0msig\u001b[0m\u001b[0;34m.\u001b[0m\u001b[0mparameters\u001b[0m\u001b[0;34m,\u001b[0m \u001b[0margs\u001b[0m\u001b[0;34m)\u001b[0m\u001b[0;34m}\u001b[0m\u001b[0;34m)\u001b[0m\u001b[0;34m\u001b[0m\u001b[0;34m\u001b[0m\u001b[0m\n\u001b[0;32m---> 46\u001b[0;31m         \u001b[0;32mreturn\u001b[0m \u001b[0mf\u001b[0m\u001b[0;34m(\u001b[0m\u001b[0;34m**\u001b[0m\u001b[0mkwargs\u001b[0m\u001b[0;34m)\u001b[0m\u001b[0;34m\u001b[0m\u001b[0;34m\u001b[0m\u001b[0m\n\u001b[0m\u001b[1;32m     47\u001b[0m     \u001b[0;32mreturn\u001b[0m \u001b[0minner_f\u001b[0m\u001b[0;34m\u001b[0m\u001b[0;34m\u001b[0m\u001b[0m\n\u001b[1;32m     48\u001b[0m \u001b[0;34m\u001b[0m\u001b[0m\n",
      "\u001b[0;32m~/miniconda3/lib/python3.8/site-packages/seaborn/categorical.py\u001b[0m in \u001b[0;36mviolinplot\u001b[0;34m(x, y, hue, data, order, hue_order, bw, cut, scale, scale_hue, gridsize, width, inner, split, dodge, orient, linewidth, color, palette, saturation, ax, **kwargs)\u001b[0m\n\u001b[1;32m   2385\u001b[0m ):\n\u001b[1;32m   2386\u001b[0m \u001b[0;34m\u001b[0m\u001b[0m\n\u001b[0;32m-> 2387\u001b[0;31m     plotter = _ViolinPlotter(x, y, hue, data, order, hue_order,\n\u001b[0m\u001b[1;32m   2388\u001b[0m                              \u001b[0mbw\u001b[0m\u001b[0;34m,\u001b[0m \u001b[0mcut\u001b[0m\u001b[0;34m,\u001b[0m \u001b[0mscale\u001b[0m\u001b[0;34m,\u001b[0m \u001b[0mscale_hue\u001b[0m\u001b[0;34m,\u001b[0m \u001b[0mgridsize\u001b[0m\u001b[0;34m,\u001b[0m\u001b[0;34m\u001b[0m\u001b[0;34m\u001b[0m\u001b[0m\n\u001b[1;32m   2389\u001b[0m                              \u001b[0mwidth\u001b[0m\u001b[0;34m,\u001b[0m \u001b[0minner\u001b[0m\u001b[0;34m,\u001b[0m \u001b[0msplit\u001b[0m\u001b[0;34m,\u001b[0m \u001b[0mdodge\u001b[0m\u001b[0;34m,\u001b[0m \u001b[0morient\u001b[0m\u001b[0;34m,\u001b[0m \u001b[0mlinewidth\u001b[0m\u001b[0;34m,\u001b[0m\u001b[0;34m\u001b[0m\u001b[0;34m\u001b[0m\u001b[0m\n",
      "\u001b[0;32m~/miniconda3/lib/python3.8/site-packages/seaborn/categorical.py\u001b[0m in \u001b[0;36m__init__\u001b[0;34m(self, x, y, hue, data, order, hue_order, bw, cut, scale, scale_hue, gridsize, width, inner, split, dodge, orient, linewidth, color, palette, saturation)\u001b[0m\n\u001b[1;32m    522\u001b[0m         \u001b[0mself\u001b[0m\u001b[0;34m.\u001b[0m\u001b[0mestablish_variables\u001b[0m\u001b[0;34m(\u001b[0m\u001b[0mx\u001b[0m\u001b[0;34m,\u001b[0m \u001b[0my\u001b[0m\u001b[0;34m,\u001b[0m \u001b[0mhue\u001b[0m\u001b[0;34m,\u001b[0m \u001b[0mdata\u001b[0m\u001b[0;34m,\u001b[0m \u001b[0morient\u001b[0m\u001b[0;34m,\u001b[0m \u001b[0morder\u001b[0m\u001b[0;34m,\u001b[0m \u001b[0mhue_order\u001b[0m\u001b[0;34m)\u001b[0m\u001b[0;34m\u001b[0m\u001b[0;34m\u001b[0m\u001b[0m\n\u001b[1;32m    523\u001b[0m         \u001b[0mself\u001b[0m\u001b[0;34m.\u001b[0m\u001b[0mestablish_colors\u001b[0m\u001b[0;34m(\u001b[0m\u001b[0mcolor\u001b[0m\u001b[0;34m,\u001b[0m \u001b[0mpalette\u001b[0m\u001b[0;34m,\u001b[0m \u001b[0msaturation\u001b[0m\u001b[0;34m)\u001b[0m\u001b[0;34m\u001b[0m\u001b[0;34m\u001b[0m\u001b[0m\n\u001b[0;32m--> 524\u001b[0;31m         \u001b[0mself\u001b[0m\u001b[0;34m.\u001b[0m\u001b[0mestimate_densities\u001b[0m\u001b[0;34m(\u001b[0m\u001b[0mbw\u001b[0m\u001b[0;34m,\u001b[0m \u001b[0mcut\u001b[0m\u001b[0;34m,\u001b[0m \u001b[0mscale\u001b[0m\u001b[0;34m,\u001b[0m \u001b[0mscale_hue\u001b[0m\u001b[0;34m,\u001b[0m \u001b[0mgridsize\u001b[0m\u001b[0;34m)\u001b[0m\u001b[0;34m\u001b[0m\u001b[0;34m\u001b[0m\u001b[0m\n\u001b[0m\u001b[1;32m    525\u001b[0m \u001b[0;34m\u001b[0m\u001b[0m\n\u001b[1;32m    526\u001b[0m         \u001b[0mself\u001b[0m\u001b[0;34m.\u001b[0m\u001b[0mgridsize\u001b[0m \u001b[0;34m=\u001b[0m \u001b[0mgridsize\u001b[0m\u001b[0;34m\u001b[0m\u001b[0;34m\u001b[0m\u001b[0m\n",
      "\u001b[0;32m~/miniconda3/lib/python3.8/site-packages/seaborn/categorical.py\u001b[0m in \u001b[0;36mestimate_densities\u001b[0;34m(self, bw, cut, scale, scale_hue, gridsize)\u001b[0m\n\u001b[1;32m    569\u001b[0m \u001b[0;34m\u001b[0m\u001b[0m\n\u001b[1;32m    570\u001b[0m                 \u001b[0;31m# Strip missing datapoints\u001b[0m\u001b[0;34m\u001b[0m\u001b[0;34m\u001b[0m\u001b[0;34m\u001b[0m\u001b[0m\n\u001b[0;32m--> 571\u001b[0;31m                 \u001b[0mkde_data\u001b[0m \u001b[0;34m=\u001b[0m \u001b[0mremove_na\u001b[0m\u001b[0;34m(\u001b[0m\u001b[0mgroup_data\u001b[0m\u001b[0;34m)\u001b[0m\u001b[0;34m\u001b[0m\u001b[0;34m\u001b[0m\u001b[0m\n\u001b[0m\u001b[1;32m    572\u001b[0m \u001b[0;34m\u001b[0m\u001b[0m\n\u001b[1;32m    573\u001b[0m                 \u001b[0;31m# Handle special case of no data at this level\u001b[0m\u001b[0;34m\u001b[0m\u001b[0;34m\u001b[0m\u001b[0;34m\u001b[0m\u001b[0m\n",
      "\u001b[0;32m~/miniconda3/lib/python3.8/site-packages/seaborn/utils.py\u001b[0m in \u001b[0;36mremove_na\u001b[0;34m(vector)\u001b[0m\n\u001b[1;32m    196\u001b[0m \u001b[0;34m\u001b[0m\u001b[0m\n\u001b[1;32m    197\u001b[0m     \"\"\"\n\u001b[0;32m--> 198\u001b[0;31m     \u001b[0;32mreturn\u001b[0m \u001b[0mvector\u001b[0m\u001b[0;34m[\u001b[0m\u001b[0mpd\u001b[0m\u001b[0;34m.\u001b[0m\u001b[0mnotnull\u001b[0m\u001b[0;34m(\u001b[0m\u001b[0mvector\u001b[0m\u001b[0;34m)\u001b[0m\u001b[0;34m]\u001b[0m\u001b[0;34m\u001b[0m\u001b[0;34m\u001b[0m\u001b[0m\n\u001b[0m\u001b[1;32m    199\u001b[0m \u001b[0;34m\u001b[0m\u001b[0m\n\u001b[1;32m    200\u001b[0m \u001b[0;34m\u001b[0m\u001b[0m\n",
      "\u001b[0;32m~/miniconda3/lib/python3.8/site-packages/pandas/core/dtypes/missing.py\u001b[0m in \u001b[0;36mnotna\u001b[0;34m(obj)\u001b[0m\n\u001b[1;32m    339\u001b[0m     \u001b[0mName\u001b[0m\u001b[0;34m:\u001b[0m \u001b[0;36m1\u001b[0m\u001b[0;34m,\u001b[0m \u001b[0mdtype\u001b[0m\u001b[0;34m:\u001b[0m \u001b[0mbool\u001b[0m\u001b[0;34m\u001b[0m\u001b[0;34m\u001b[0m\u001b[0m\n\u001b[1;32m    340\u001b[0m     \"\"\"\n\u001b[0;32m--> 341\u001b[0;31m     \u001b[0mres\u001b[0m \u001b[0;34m=\u001b[0m \u001b[0misna\u001b[0m\u001b[0;34m(\u001b[0m\u001b[0mobj\u001b[0m\u001b[0;34m)\u001b[0m\u001b[0;34m\u001b[0m\u001b[0;34m\u001b[0m\u001b[0m\n\u001b[0m\u001b[1;32m    342\u001b[0m     \u001b[0;32mif\u001b[0m \u001b[0mis_scalar\u001b[0m\u001b[0;34m(\u001b[0m\u001b[0mres\u001b[0m\u001b[0;34m)\u001b[0m\u001b[0;34m:\u001b[0m\u001b[0;34m\u001b[0m\u001b[0;34m\u001b[0m\u001b[0m\n\u001b[1;32m    343\u001b[0m         \u001b[0;32mreturn\u001b[0m \u001b[0;32mnot\u001b[0m \u001b[0mres\u001b[0m\u001b[0;34m\u001b[0m\u001b[0;34m\u001b[0m\u001b[0m\n",
      "\u001b[0;32m~/miniconda3/lib/python3.8/site-packages/pandas/core/dtypes/missing.py\u001b[0m in \u001b[0;36misna\u001b[0;34m(obj)\u001b[0m\n\u001b[1;32m    125\u001b[0m     \u001b[0mName\u001b[0m\u001b[0;34m:\u001b[0m \u001b[0;36m1\u001b[0m\u001b[0;34m,\u001b[0m \u001b[0mdtype\u001b[0m\u001b[0;34m:\u001b[0m \u001b[0mbool\u001b[0m\u001b[0;34m\u001b[0m\u001b[0;34m\u001b[0m\u001b[0m\n\u001b[1;32m    126\u001b[0m     \"\"\"\n\u001b[0;32m--> 127\u001b[0;31m     \u001b[0;32mreturn\u001b[0m \u001b[0m_isna\u001b[0m\u001b[0;34m(\u001b[0m\u001b[0mobj\u001b[0m\u001b[0;34m)\u001b[0m\u001b[0;34m\u001b[0m\u001b[0;34m\u001b[0m\u001b[0m\n\u001b[0m\u001b[1;32m    128\u001b[0m \u001b[0;34m\u001b[0m\u001b[0m\n\u001b[1;32m    129\u001b[0m \u001b[0;34m\u001b[0m\u001b[0m\n",
      "\u001b[0;32m~/miniconda3/lib/python3.8/site-packages/pandas/core/dtypes/missing.py\u001b[0m in \u001b[0;36m_isna\u001b[0;34m(obj, inf_as_na)\u001b[0m\n\u001b[1;32m    147\u001b[0m     \u001b[0mboolean\u001b[0m \u001b[0mndarray\u001b[0m \u001b[0;32mor\u001b[0m \u001b[0mboolean\u001b[0m\u001b[0;34m\u001b[0m\u001b[0;34m\u001b[0m\u001b[0m\n\u001b[1;32m    148\u001b[0m     \"\"\"\n\u001b[0;32m--> 149\u001b[0;31m     \u001b[0;32mif\u001b[0m \u001b[0mis_scalar\u001b[0m\u001b[0;34m(\u001b[0m\u001b[0mobj\u001b[0m\u001b[0;34m)\u001b[0m\u001b[0;34m:\u001b[0m\u001b[0;34m\u001b[0m\u001b[0;34m\u001b[0m\u001b[0m\n\u001b[0m\u001b[1;32m    150\u001b[0m         \u001b[0;32mif\u001b[0m \u001b[0minf_as_na\u001b[0m\u001b[0;34m:\u001b[0m\u001b[0;34m\u001b[0m\u001b[0;34m\u001b[0m\u001b[0m\n\u001b[1;32m    151\u001b[0m             \u001b[0;32mreturn\u001b[0m \u001b[0mlibmissing\u001b[0m\u001b[0;34m.\u001b[0m\u001b[0mchecknull_old\u001b[0m\u001b[0;34m(\u001b[0m\u001b[0mobj\u001b[0m\u001b[0;34m)\u001b[0m\u001b[0;34m\u001b[0m\u001b[0;34m\u001b[0m\u001b[0m\n",
      "\u001b[0;31mKeyboardInterrupt\u001b[0m: "
     ]
    }
   ],
   "source": [
    "df = pd.DataFrame(preds[:,1], wins)\n",
    "sns.violinplot(x=preds[:,1], y=wins.to_numpy().astype(int))\n"
   ]
  },
  {
   "cell_type": "code",
   "execution_count": null,
   "metadata": {},
   "outputs": [],
   "source": [
    "import sklearn.manifold\n",
    "reduce = sklearn.manifold.TSNE()\n",
    "decks = data.iloc[:, [\"deck\" in col for col in data.columns]]z\n",
    "decks\n",
    "tsne_out = reduce.fit_transform(decks.to_numpy())"
   ]
  },
  {
   "cell_type": "code",
   "execution_count": 67,
   "metadata": {},
   "outputs": [
    {
     "data": {
      "text/plain": [
       "sklearn.manifold._t_sne.TSNE"
      ]
     },
     "execution_count": 67,
     "metadata": {},
     "output_type": "execute_result"
    }
   ],
   "source": [
    "tsne_out"
   ]
  },
  {
   "cell_type": "code",
   "execution_count": null,
   "metadata": {},
   "outputs": [],
   "source": []
  }
 ],
 "metadata": {
  "kernelspec": {
   "display_name": "Python 3",
   "language": "python",
   "name": "python3"
  },
  "language_info": {
   "codemirror_mode": {
    "name": "ipython",
    "version": 3
   },
   "file_extension": ".py",
   "mimetype": "text/x-python",
   "name": "python",
   "nbconvert_exporter": "python",
   "pygments_lexer": "ipython3",
   "version": "3.8.5"
  }
 },
 "nbformat": 4,
 "nbformat_minor": 5
}
